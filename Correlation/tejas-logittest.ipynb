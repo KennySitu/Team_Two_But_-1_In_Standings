{
 "cells": [
  {
   "cell_type": "code",
   "execution_count": null,
   "metadata": {
    "collapsed": true
   },
   "outputs": [],
   "source": []
  },
  {
   "cell_type": "code",
   "execution_count": null,
   "metadata": {},
   "outputs": [],
   "source": [
    "def crimes2list(filename):\n",
    "    \"\"\"\n",
    "    Gets the violent crimes per state from ht csv file and stores it to  a list\n",
    "    :param filename: \n",
    "    :param crime_list: \n",
    "    :return: \n",
    "    \"\"\"\n",
    "    import csv\n",
    "    with open(filename.csv, 'rb') as f:\n",
    "        reader = csv.reader(f)\n",
    "        large_list= list(reader)\n",
    "        crime_list = []\n",
    "        for i in large_list:\n",
    "            crime_list.append(i[4])\n",
    "            \n",
    "    return crime_list\n",
    "    "
   ]
  },
  {
   "cell_type": "code",
   "execution_count": null,
   "metadata": {},
   "outputs": [],
   "source": [
    "def gun_deaths2list(filename):\n",
    "    \"\"\"\n",
    "    Gets total firearm deaths in a list from the csv file\n",
    "    :param filename: \n",
    "    :param death_list: \n",
    "    :return: \n",
    "    \"\"\"\n",
    "    import csv\n",
    "    with open(filename.csv, 'rb') as f:\n",
    "        reader = csv.reader(f)\n",
    "        large_list= list(reader)\n",
    "        death_list = []\n",
    "        for i in large_list:\n",
    "            death_list.append(i[5])\n",
    "            \n",
    "    return death_list"
   ]
  },
  {
   "cell_type": "code",
   "execution_count": null,
   "metadata": {},
   "outputs": [],
   "source": [
    "def mental_health2list(filename):\n",
    "    import csv\n",
    "    with open(filename.csv, 'rb') as f:\n",
    "        reader = csv.reader(f)\n",
    "        large_list = list(reader)\n",
    "        mental_list = []\n",
    "        for i in mental_list:\n",
    "            #append here\n",
    "        "
   ]
  },
  {
   "cell_type": "code",
   "execution_count": null,
   "metadata": {},
   "outputs": [],
   "source": [
    "def correlation(mental_health_list, offense_list):\n",
    "    \"\"\"\n",
    "    Correlates data for mental health per state to the offensve we want to compare to ands stores it into a list\n",
    "    :param mental_health_list: \n",
    "    :param offense_list: \n",
    "    :return: \n",
    "    \"\"\"\n",
    "        \n",
    "        "
   ]
  },
  {
   "cell_type": "code",
   "execution_count": null,
   "metadata": {},
   "outputs": [],
   "source": []
  },
  {
   "cell_type": "code",
   "execution_count": null,
   "metadata": {},
   "outputs": [],
   "source": []
  },
  {
   "cell_type": "code",
   "execution_count": null,
   "metadata": {},
   "outputs": [],
   "source": []
  },
  {
   "cell_type": "code",
   "execution_count": null,
   "metadata": {},
   "outputs": [],
   "source": []
  },
  {
   "cell_type": "code",
   "execution_count": null,
   "metadata": {},
   "outputs": [],
   "source": []
  }
 ],
 "metadata": {
  "kernelspec": {
   "display_name": "Python 2",
   "language": "python",
   "name": "python2"
  },
  "language_info": {
   "codemirror_mode": {
    "name": "ipython",
    "version": 2
   },
   "file_extension": ".py",
   "mimetype": "text/x-python",
   "name": "python",
   "nbconvert_exporter": "python",
   "pygments_lexer": "ipython2",
   "version": "2.7.6"
  }
 },
 "nbformat": 4,
 "nbformat_minor": 0
}
