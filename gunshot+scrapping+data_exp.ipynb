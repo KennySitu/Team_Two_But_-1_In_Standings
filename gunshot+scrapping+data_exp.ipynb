{
 "cells": [
  {
   "cell_type": "code",
   "execution_count": 50,
   "metadata": {
    "collapsed": true
   },
   "outputs": [],
   "source": [
    "import urllib2\n",
    "from bs4 import BeautifulSoup"
   ]
  },
  {
   "cell_type": "code",
   "execution_count": 51,
   "metadata": {
    "collapsed": true
   },
   "outputs": [],
   "source": [
    "qp = 'https://www.usatoday.com/story/news/nation/2018/02/21/states-most-and-least-gun-violence-see-where-your-state-stacks-up/359395002/'"
   ]
  },
  {
   "cell_type": "code",
   "execution_count": 52,
   "metadata": {
    "collapsed": true
   },
   "outputs": [],
   "source": [
    "page = urllib2.urlopen(qp)"
   ]
  },
  {
   "cell_type": "code",
   "execution_count": 53,
   "metadata": {
    "collapsed": true
   },
   "outputs": [],
   "source": [
    "soup = BeautifulSoup(page,'html.parser')"
   ]
  },
  {
   "cell_type": "code",
   "execution_count": 54,
   "metadata": {
    "collapsed": true
   },
   "outputs": [],
   "source": [
    "state = soup.find_all('h3',attrs={'class','presto-h3'})\n"
   ]
  },
  {
   "cell_type": "code",
   "execution_count": 55,
   "metadata": {},
   "outputs": [
    {
     "name": "stdout",
     "output_type": "stream",
     "text": [
      "51\n"
     ]
    },
    {
     "data": {
      "text/plain": [
       "[<h3 class=\"presto-h3\">50. Massachusetts</h3>,\n",
       " <h3 class=\"presto-h3\">49. Rhode Island</h3>,\n",
       " <h3 class=\"presto-h3\">48. New York</h3>,\n",
       " <h3 class=\"presto-h3\">47. Hawaii</h3>,\n",
       " <h3 class=\"presto-h3\">46. Connecticut</h3>,\n",
       " <h3 class=\"presto-h3\">45. New Jersey</h3>,\n",
       " <h3 class=\"presto-h3\">44. Minnesota</h3>,\n",
       " <h3 class=\"presto-h3\">43. California</h3>,\n",
       " <h3 class=\"presto-h3\">42. Maine</h3>,\n",
       " <h3 class=\"presto-h3\">41. Washington</h3>,\n",
       " <h3 class=\"presto-h3\">40. Nebraska</h3>,\n",
       " <h3 class=\"presto-h3\">39. Iowa</h3>,\n",
       " <h3 class=\"presto-h3\">38. New Hampshire</h3>,\n",
       " <h3 class=\"presto-h3\">37. Delaware</h3>,\n",
       " <h3 class=\"presto-h3\">36. Vermont</h3>,\n",
       " <h3 class=\"presto-h3\">35. Wisconsin</h3>,\n",
       " <h3 class=\"presto-h3\">34. Illinois</h3>,\n",
       " <h3 class=\"presto-h3\">33. Oregon</h3>,\n",
       " <h3 class=\"presto-h3\">32. Maryland</h3>,\n",
       " <h3 class=\"presto-h3\">31. Pennsylvania</h3>,\n",
       " <h3 class=\"presto-h3\">30. North Dakota</h3>,\n",
       " <h3 class=\"presto-h3\">29. Virginia</h3>,\n",
       " <h3 class=\"presto-h3\">28. Texas</h3>,\n",
       " <h3 class=\"presto-h3\">27. Michigan</h3>,\n",
       " <h3 class=\"presto-h3\">26. Florida</h3>,\n",
       " <h3 class=\"presto-h3\">25. Ohio</h3>,\n",
       " <h3 class=\"presto-h3\">24. Utah</h3>,\n",
       " <h3 class=\"presto-h3\">23. Kansas</h3>,\n",
       " <h3 class=\"presto-h3\">22. South Dakota</h3>,\n",
       " <h3 class=\"presto-h3\">21. North Carolina</h3>,\n",
       " <h3 class=\"presto-h3\">20. Colorado</h3>,\n",
       " <h3 class=\"presto-h3\">19. Idaho</h3>,\n",
       " <h3 class=\"presto-h3\">18. Indiana</h3>,\n",
       " <h3 class=\"presto-h3\">17. Georgia</h3>,\n",
       " <h3 class=\"presto-h3\">16. Arizona</h3>,\n",
       " <h3 class=\"presto-h3\">15. Nevada</h3>,\n",
       " <h3 class=\"presto-h3\">\\xa0</h3>,\n",
       " <h3 class=\"presto-h3\">14. Tennessee</h3>,\n",
       " <h3 class=\"presto-h3\">13. Kentucky</h3>,\n",
       " <h3 class=\"presto-h3\">12. West Virginia</h3>,\n",
       " <h3 class=\"presto-h3\">11. Wyoming</h3>,\n",
       " <h3 class=\"presto-h3\">10. South Carolina</h3>,\n",
       " <h3 class=\"presto-h3\">9. Arkansas</h3>,\n",
       " <h3 class=\"presto-h3\">8. New Mexico</h3>,\n",
       " <h3 class=\"presto-h3\">7. Missouri</h3>,\n",
       " <h3 class=\"presto-h3\">6. Montana</h3>,\n",
       " <h3 class=\"presto-h3\">5. Oklahoma</h3>,\n",
       " <h3 class=\"presto-h3\">4. Mississippi</h3>,\n",
       " <h3 class=\"presto-h3\">3. Louisiana</h3>,\n",
       " <h3 class=\"presto-h3\">2. Alabama</h3>,\n",
       " <h3 class=\"presto-h3\">1. Alaska</h3>]"
      ]
     },
     "execution_count": 55,
     "metadata": {},
     "output_type": "execute_result"
    }
   ],
   "source": [
    "print len(state)\n",
    "state"
   ]
  },
  {
   "cell_type": "code",
   "execution_count": null,
   "metadata": {
    "collapsed": true
   },
   "outputs": [],
   "source": []
  },
  {
   "cell_type": "code",
   "execution_count": 56,
   "metadata": {},
   "outputs": [
    {
     "name": "stdout",
     "output_type": "stream",
     "text": [
      "Massachusetts\n"
     ]
    },
    {
     "data": {
      "text/plain": [
       "<h3 class=\"presto-h3\">\\xa0</h3>"
      ]
     },
     "execution_count": 56,
     "metadata": {},
     "output_type": "execute_result"
    }
   ],
   "source": [
    "s = \"<h3 class=‘presto-h3’>50. Massachusetts</h3>\"\n",
    "s = s[30:]\n",
    "s = s[:-5]\n",
    "print s\n",
    "state[36]"
   ]
  },
  {
   "cell_type": "code",
   "execution_count": 57,
   "metadata": {
    "collapsed": true
   },
   "outputs": [],
   "source": [
    "def state_recog(state):\n",
    "    '''\n",
    "    input: state\n",
    "    output: list of string, name of state\n",
    "    '''\n",
    "    res = []\n",
    "    count = 0\n",
    "    for i in state:\n",
    "        if count == 36:\n",
    "            count += 1\n",
    "            continue\n",
    "        if count <= 41:\n",
    "            tmp = str(i)[26:]\n",
    "            tmp = tmp[:-5]\n",
    "            res.append(tmp)\n",
    "        if count > 41 and count <= 50:\n",
    "            tmp = str(i)[25:]\n",
    "            tmp = tmp[:-5]\n",
    "            res.append(tmp)\n",
    "        count += 1\n",
    "    return res  "
   ]
  },
  {
   "cell_type": "code",
   "execution_count": 58,
   "metadata": {
    "collapsed": true
   },
   "outputs": [],
   "source": [
    "state = state_recog(state)"
   ]
  },
  {
   "cell_type": "code",
   "execution_count": 59,
   "metadata": {},
   "outputs": [
    {
     "data": {
      "text/plain": [
       "['Massachusetts',\n",
       " 'Rhode Island',\n",
       " 'New York',\n",
       " 'Hawaii',\n",
       " 'Connecticut',\n",
       " 'New Jersey',\n",
       " 'Minnesota',\n",
       " 'California',\n",
       " 'Maine',\n",
       " 'Washington',\n",
       " 'Nebraska',\n",
       " 'Iowa',\n",
       " 'New Hampshire',\n",
       " 'Delaware',\n",
       " 'Vermont',\n",
       " 'Wisconsin',\n",
       " 'Illinois',\n",
       " 'Oregon',\n",
       " 'Maryland',\n",
       " 'Pennsylvania',\n",
       " 'North Dakota',\n",
       " 'Virginia',\n",
       " 'Texas',\n",
       " 'Michigan',\n",
       " 'Florida',\n",
       " 'Ohio',\n",
       " 'Utah',\n",
       " 'Kansas',\n",
       " 'South Dakota',\n",
       " 'North Carolina',\n",
       " 'Colorado',\n",
       " 'Idaho',\n",
       " 'Indiana',\n",
       " 'Georgia',\n",
       " 'Arizona',\n",
       " 'Nevada',\n",
       " 'Tennessee',\n",
       " 'Kentucky',\n",
       " 'West Virginia',\n",
       " 'Wyoming',\n",
       " 'South Carolina',\n",
       " 'Arkansas',\n",
       " 'New Mexico',\n",
       " 'Missouri',\n",
       " 'Montana',\n",
       " 'Oklahoma',\n",
       " 'Mississippi',\n",
       " 'Louisiana',\n",
       " 'Alabama',\n",
       " 'Alaska']"
      ]
     },
     "execution_count": 59,
     "metadata": {},
     "output_type": "execute_result"
    }
   ],
   "source": [
    "state"
   ]
  },
  {
   "cell_type": "code",
   "execution_count": 60,
   "metadata": {
    "collapsed": true
   },
   "outputs": [],
   "source": [
    "import csv"
   ]
  },
  {
   "cell_type": "code",
   "execution_count": null,
   "metadata": {
    "collapsed": true
   },
   "outputs": [],
   "source": [
    "\n",
    "    "
   ]
  },
  {
   "cell_type": "code",
   "execution_count": null,
   "metadata": {
    "collapsed": true
   },
   "outputs": [],
   "source": []
  },
  {
   "cell_type": "code",
   "execution_count": 61,
   "metadata": {
    "collapsed": true
   },
   "outputs": [],
   "source": [
    "data = soup.find_all('li',attrs={'class': None})"
   ]
  },
  {
   "cell_type": "code",
   "execution_count": 62,
   "metadata": {
    "scrolled": false
   },
   "outputs": [
    {
     "data": {
      "text/plain": [
       "[<li>Firearm deaths per 100,000 people: 3.4 per 100,000</li>,\n",
       " <li>Total firearm deaths 2016: 242 (suicides: 140, homicides: 89)</li>,\n",
       " <li>Violent crime rate: 376.9 per 100,000 (23rd highest)</li>,\n",
       " <li>Permit required to carry handgun: Yes</li>,\n",
       " <li>Poverty rate: 10.4% (9th lowest)</li>,\n",
       " <li>Firearm deaths per 100,000 people: 4.0 per 100,000</li>,\n",
       " <li>Total firearm deaths 2016: 49 (suicides: 35, homicides: N/A)</li>,\n",
       " <li>Violent crime rate: 238.9 per 100,000 (8th lowest)</li>,\n",
       " <li>Permit required to carry handgun: Yes</li>,\n",
       " <li>Poverty rate: 12.8% (22nd lowest)</li>,\n",
       " <li>Firearm deaths per 100,000 people: 4.4 per 100,000</li>,\n",
       " <li>Total firearm deaths 2016: 900 (suicides: 490, homicides: 390)</li>,\n",
       " <li>Violent crime rate: 376.2 per 100,000 (24th highest)</li>,\n",
       " <li>Permit required to carry handgun: Yes</li>,\n",
       " <li>Poverty rate: 14.7% (16th highest)</li>,\n",
       " <li>Firearm deaths per 100,000 people: 4.5 per 100,000</li>,\n",
       " <li>Total firearm deaths 2016: 66 (suicides: 37, homicides: 22)</li>,\n",
       " <li>Violent crime rate: 309.2 per 100,000 (21st lowest)</li>,\n",
       " <li>Permit required to carry handgun: Yes</li>,\n",
       " <li>Poverty rate: 9.3% (2nd lowest)</li>,\n",
       " <li>Firearm deaths per 100,000 people: 4.6 per 100,000</li>,\n",
       " <li>Total firearm deaths 2016: 172 (suicides: 110, homicides: 55)</li>,\n",
       " <li>Violent crime rate: 227.1 per 100,000 (5th lowest)</li>,\n",
       " <li>Permit required to carry handgun: Yes</li>,\n",
       " <li>Poverty rate: 9.8% (4th lowest)</li>,\n",
       " <li>Firearm deaths per 100,000 people: 5.5 per 100,000</li>,\n",
       " <li>Total firearm deaths 2016: 485 (suicides: 176, homicides: 297)</li>,\n",
       " <li>Violent crime rate: 245.0 per 100,000 (12th lowest)</li>,\n",
       " <li>Permit required to carry handgun: Yes</li>,\n",
       " <li>Poverty rate: 10.4% (9th lowest)</li>,\n",
       " <li>Firearm deaths per 100,000 people: 7.6 per 100,000</li>,\n",
       " <li>Total firearm deaths 2016: 432 (suicides: 332, homicides: 83)</li>,\n",
       " <li>Violent crime rate: 242.6 per 100,000 (9th lowest)</li>,\n",
       " <li>Permit required to carry handgun: Yes (concealed and open carry)</li>,\n",
       " <li>Poverty rate: 9.9% (6th lowest)</li>,\n",
       " <li>Firearm deaths per 100,000 people: 7.9 per 100,000</li>,\n",
       " <li>Total firearm deaths 2016: 3184 (suicides: 1595, homicides: 1467)</li>,\n",
       " <li>Violent crime rate: 445.3 per 100,000 (15th highest)</li>,\n",
       " <li>Permit required to carry handgun: Yes (in incorporated areas and concealed anywhere)</li>,\n",
       " <li>Poverty rate: 14.3% (20th highest)</li>,\n",
       " <li>Firearm deaths per 100,000 people: 8.2 per 100,000</li>,\n",
       " <li>Total firearm deaths 2016: 123 (suicides: 112, homicides: N/A)</li>,\n",
       " <li>Violent crime rate: 123.8 per 100,000 (the lowest)</li>,\n",
       " <li>Permit required to carry handgun: No (No permit is necessary to carry openly\\xa0or to carry a concealed handgun if person is at least 21.)</li>,\n",
       " <li>Poverty rate: 12.5% (21st lowest)</li>,\n",
       " <li>Firearm deaths per 100,000 people: 9.0 per 100,000</li>,\n",
       " <li>Total firearm deaths 2016: 686 (suicides: 515, homicides: 146)</li>,\n",
       " <li>Violent crime rate: 302.2 per 100,000 (19th lowest)</li>,\n",
       " <li>Permit required to carry handgun: Yes</li>,\n",
       " <li>Poverty rate: 11.3% (14th lowest)</li>,\n",
       " <li>Firearm deaths per 100,000 people: 9.1 per 100,000</li>,\n",
       " <li>Total firearm deaths 2016: 171 (suicides: 116, homicides: 45)</li>,\n",
       " <li>Violent crime rate: 291.0 per 100,000 (17th lowest)</li>,\n",
       " <li>Permit required to carry handgun: Yes</li>,\n",
       " <li>Poverty rate: 11.4% (15th lowest)</li>,\n",
       " <li>Firearm deaths per 100,000 people: 9.2 per 100,000</li>,\n",
       " <li>Total firearm deaths 2016: 288 (suicides: 228, homicides: 49)</li>,\n",
       " <li>Violent crime rate: 290.6 per 100,000 (16th lowest)</li>,\n",
       " <li>Permit required to carry handgun: Yes</li>,\n",
       " <li>Poverty rate: 11.8% (18th lowest)</li>,\n",
       " <li>Firearm deaths per 100,000 people: 9.3 per 100,000</li>,\n",
       " <li>Total firearm deaths 2016: 132 (suicides: 123, homicides: N/A)</li>,\n",
       " <li>Violent crime rate: 197.6 per 100,000 (3rd lowest)</li>,\n",
       " <li>Permit required to carry handgun: No (A concealed handgun in the state does not require a permit. However, New Hampshire gun laws consider it illegal to carry a loaded handgun concealed on oneself or in a vehicle.)</li>,\n",
       " <li>Poverty rate: 7.3% (the lowest)</li>,\n",
       " <li>Firearm deaths per 100,000 people: 10.9 per 100,000</li>,\n",
       " <li>Total firearm deaths 2016: 111 (suicides: 65, homicides: 44)</li>,\n",
       " <li>Violent crime rate: 508.8 per 100,000 (9th highest)</li>,\n",
       " <li>Permit required to carry handgun: Yes</li>,\n",
       " <li>Poverty rate: 11.7% (16th lowest)</li>,\n",
       " <li>Firearm deaths per 100,000 people: 11.0 per 100,000</li>,\n",
       " <li>Total firearm deaths 2016: 78 (suicides: 69, homicides: N/A)</li>,\n",
       " <li>Violent crime rate: 158.3 per 100,000 (2nd lowest)</li>,\n",
       " <li>Permit required to carry handgun: No (Vermont does not issue permits nor require one for law-abiding citizens to carry concealed.)</li>,\n",
       " <li>Poverty rate: 11.9% (19th lowest)</li>,\n",
       " <li>Firearm deaths per 100,000 people: 11.4 per 100,000</li>,\n",
       " <li>Total firearm deaths 2016: 664 (suicides: 455, homicides: 188)</li>,\n",
       " <li>Violent crime rate: 305.9 per 100,000 (20th lowest)</li>,\n",
       " <li>Permit required to carry handgun: Yes</li>,\n",
       " <li>Poverty rate: 11.8% (18th lowest)</li>,\n",
       " <li>Firearm deaths per 100,000 people: 11.6 per 100,000</li>,\n",
       " <li>Total firearm deaths 2016: 1490 (suicides: 506, homicides: 944)</li>,\n",
       " <li>Violent crime rate: 436.3 per 100,000 (16th highest)</li>,\n",
       " <li>Permit required to carry handgun: FOID Required</li>,\n",
       " <li>Poverty rate: 13.0% (24th lowest)</li>,\n",
       " <li>Firearm deaths per 100,000 people: 11.8 per 100,000</li>,\n",
       " <li>Total firearm deaths 2016: 513 (suicides: 414, homicides: 78)</li>,\n",
       " <li>Violent crime rate: 264.6 per 100,000 (14th lowest)</li>,\n",
       " <li>Permit required to carry handgun: Yes</li>,\n",
       " <li>Poverty rate: 13.3% (24th highest)</li>,\n",
       " <li>Firearm deaths per 100,000 people: 11.8 per 100,000</li>,\n",
       " <li>Total firearm deaths 2016: 707 (suicides: 251, homicides: 436)</li>,\n",
       " <li>Violent crime rate: 472.0 per 100,000 (11th highest)</li>,\n",
       " <li>Permit required to carry handgun: Yes</li>,\n",
       " <li>Poverty rate: 9.7% (3rd lowest)</li>,\n",
       " <li>Firearm deaths per 100,000 people: 11.9 per 100,000</li>,\n",
       " <li>Total firearm deaths 2016: 1555 (suicides: 976, homicides: 538)</li>,\n",
       " <li>Violent crime rate: 316.4 per 100,000 (22nd lowest)</li>,\n",
       " <li>Permit required to carry handgun: Yes</li>,\n",
       " <li>Poverty rate: 12.9% (23rd lowest)</li>,\n",
       " <li>Firearm deaths per 100,000 people: 11.9 per 100,000</li>,\n",
       " <li>Total firearm deaths 2016: 90 (suicides: 75, homicides: N/A)</li>,\n",
       " <li>Violent crime rate: 251.1 per 100,000 (13th lowest)</li>,\n",
       " <li>Permit required to carry handgun: No</li>,\n",
       " <li>Poverty rate: 10.7% (10th lowest)</li>,\n",
       " <li>Firearm deaths per 100,000 people: 12.0 per 100,000</li>,\n",
       " <li>Total firearm deaths 2016: 1049 (suicides: 671, homicides: 353)</li>,\n",
       " <li>Violent crime rate: 217.6 per 100,000 (4th lowest)</li>,\n",
       " <li>Permit required to carry handgun: Yes</li>,\n",
       " <li>Poverty rate: 11.0% (12th lowest)</li>,\n",
       " <li>Firearm deaths per 100,000 people: 12.1 per 100,000</li>,\n",
       " <li>Total firearm deaths 2016: 3353 (suicides: 2016, homicides: 1222)</li>,\n",
       " <li>Violent crime rate: 434.4 per 100,000 (17th highest)</li>,\n",
       " <li>Permit required to carry handgun: Yes</li>,\n",
       " <li>Poverty rate: 15.6% (12th highest)</li>,\n",
       " <li>Firearm deaths per 100,000 people: 12.2 per 100,000</li>,\n",
       " <li>Total firearm deaths 2016: 1230 (suicides: 717, homicides: 482)</li>,\n",
       " <li>Violent crime rate: 459.0 per 100,000 (13th highest)</li>,\n",
       " <li>Permit required to carry handgun: Yes</li>,\n",
       " <li>Poverty rate: 15.0% (15th highest)</li>,\n",
       " <li>Firearm deaths per 100,000 people: 12.6 per 100,000</li>,\n",
       " <li>Total firearm deaths 2016: 2704 (suicides: 1672, homicides: 992)</li>,\n",
       " <li>Violent crime rate: 430.3 per 100,000 (18th highest)</li>,\n",
       " <li>Permit required to carry handgun: Yes</li>,\n",
       " <li>Poverty rate: 14.7% (16th highest)</li>,\n",
       " <li>Firearm deaths per 100,000 people: 12.9 per 100,000</li>,\n",
       " <li>Total firearm deaths 2016: 1524 (suicides: 926, homicides: 557)</li>,\n",
       " <li>Violent crime rate: 300.3 per 100,000 (18th lowest)</li>,\n",
       " <li>Permit required to carry handgun: Yes</li>,\n",
       " <li>Poverty rate: 14.6% (18th highest)</li>,\n",
       " <li>Firearm deaths per 100,000 people: 12.9 per 100,000</li>,\n",
       " <li>Total firearm deaths 2016: 370 (suicides: 309, homicides: 48)</li>,\n",
       " <li>Violent crime rate: 242.8 per 100,000 (10th lowest)</li>,\n",
       " <li>Permit required to carry handgun: Yes (A criminal background check is conducted for all applicants)</li>,\n",
       " <li>Poverty rate: 10.2% (7th lowest)</li>,\n",
       " <li>Firearm deaths per 100,000 people: 13.3 per 100,000</li>,\n",
       " <li>Total firearm deaths 2016: 383 (suicides: 257, homicides: 113)</li>,\n",
       " <li>Violent crime rate: 380.4 per 100,000 (22nd highest)</li>,\n",
       " <li>Permit required to carry handgun: No</li>,\n",
       " <li>Poverty rate: 12.1% (20th lowest)</li>,\n",
       " <li>Firearm deaths per 100,000 people: 13.5 per 100,000</li>,\n",
       " <li>Total firearm deaths 2016: 108 (suicides: 84, homicides: N/A)</li>,\n",
       " <li>Violent crime rate: 418.4 per 100,000 (19th highest)</li>,\n",
       " <li>Permit required to carry handgun: Yes</li>,\n",
       " <li>Poverty rate: 13.3% (24th highest)</li>,\n",
       " <li>Firearm deaths per 100,000 people: 13.6 per 100,000</li>,\n",
       " <li>Total firearm deaths 2016: 1409 (suicides: 788, homicides: 558)</li>,\n",
       " <li>Violent crime rate: 372.2 per 100,000 (25th highest)</li>,\n",
       " <li>Permit required to carry handgun: Yes</li>,\n",
       " <li>Poverty rate: 15.4% (13th highest)</li>,\n",
       " <li>Firearm deaths per 100,000 people: 14.3 per 100,000</li>,\n",
       " <li>Total firearm deaths 2016: 812 (suicides: 613, homicides: 161)</li>,\n",
       " <li>Violent crime rate: 342.6 per 100,000 (23rd lowest)</li>,\n",
       " <li>Permit required to carry handgun: Yes (Weapon carried at home, business, hotel room,\\xa0etc., must be in plain view)</li>,\n",
       " <li>Poverty rate: 11.0% (12th lowest)</li>,\n",
       " <li>Firearm deaths per 100,000 people: 14.6 per 100,000</li>,\n",
       " <li>Total firearm deaths 2016: 242 (suicides: 215, homicides: N/A)</li>,\n",
       " <li>Violent crime rate: 230.3 per 100,000 (6th lowest)</li>,\n",
       " <li>Permit required to carry handgun: No (A permit to carry is available but not required to carry a handgun either openly or concealed.)</li>,\n",
       " <li>Poverty rate: 14.4% (19th highest)</li>,\n",
       " <li>Firearm deaths per 100,000 people: 14.9 per 100,000</li>,\n",
       " <li>Total firearm deaths 2016: 997 (suicides: 591, homicides: 368)</li>,\n",
       " <li>Violent crime rate: 404.7 per 100,000 (20th highest)</li>,\n",
       " <li>Permit required to carry handgun: Yes</li>,\n",
       " <li>Poverty rate: 14.1% (21st highest)</li>,\n",
       " <li>Firearm deaths per 100,000 people: 14.9 per 100,000</li>,\n",
       " <li>Total firearm deaths 2016: 1571 (suicides: 871, homicides: 653)</li>,\n",
       " <li>Violent crime rate: 397.6 per 100,000 (21st highest)</li>,\n",
       " <li>Permit required to carry handgun: Yes</li>,\n",
       " <li>Poverty rate: 16.0% (10th highest)</li>,\n",
       " <li>Firearm deaths per 100,000 people: 15.2 per 100,000</li>,\n",
       " <li>Total firearm deaths 2016: 1094 (suicides: 755, homicides: 303)</li>,\n",
       " <li>Violent crime rate: 470.1 per 100,000 (12th highest)</li>,\n",
       " <li>Permit required to carry handgun: No (Citizens allowed to carry a concealed handgun with or without a permit.)</li>,\n",
       " <li>Poverty rate: 16.4% (8th highest)</li>,\n",
       " <li>Firearm deaths per 100,000 people: 16.7 per 100,000</li>,\n",
       " <li>Total firearm deaths 2016: 498 (suicides: 334, homicides: 149)</li>,\n",
       " <li>Violent crime rate: 678.1 per 100,000 (3rd highest)</li>,\n",
       " <li>Permit required to carry handgun: Yes</li>,\n",
       " <li>Poverty rate: 13.8% (23rd highest)</li>,\n",
       " <li>Firearm deaths per 100,000 people: 17.0 per 100,000</li>,\n",
       " <li>Total firearm deaths 2016: 1148 (suicides: 675, homicides: 434)</li>,\n",
       " <li>Violent crime rate: 632.9 per 100,000 (4th highest)</li>,\n",
       " <li>Permit required to carry handgun: Yes</li>,\n",
       " <li>Poverty rate: 15.8% (11th highest)</li>,\n",
       " <li>Firearm deaths per 100,000 people: 17.5 per 100,000</li>,\n",
       " <li>Total firearm deaths 2016: 772 (suicides: 495, homicides: 234)</li>,\n",
       " <li>Violent crime rate: 232.3 per 100,000 (7th lowest)</li>,\n",
       " <li>Permit required to carry handgun: Yes</li>,\n",
       " <li>Poverty rate: 18.5% (4th highest)</li>,\n",
       " <li>Firearm deaths per 100,000 people: 17.5 per 100,000</li>,\n",
       " <li>Total firearm deaths 2016: 332 (suicides: 238, homicides: 78)</li>,\n",
       " <li>Violent crime rate: 358.1 per 100,000 (24th lowest)</li>,\n",
       " <li>Permit required to carry handgun: No (Permit to carry available, but not required to carry a handgun either openly or concealed for those 21 and over.)</li>,\n",
       " <li>Poverty rate: 17.9% (5th highest)</li>,\n",
       " <li>Firearm deaths per 100,000 people: 17.5 per 100,000</li>,\n",
       " <li>Total firearm deaths 2016: 101 (suicides: 87, homicides: N/A)</li>,\n",
       " <li>Violent crime rate: 244.2 per 100,000 (11th lowest)</li>,\n",
       " <li>Permit required to carry handgun: No (Wyoming residents do not have to obtain any type of permit/license from the state to exercise their Second Amendment rights.)</li>,\n",
       " <li>Poverty rate: 11.3% (14th lowest)</li>,\n",
       " <li>Firearm deaths per 100,000 people: 17.7 per 100,000</li>,\n",
       " <li>Total firearm deaths 2016: 891 (suicides: 525, homicides: 335)</li>,\n",
       " <li>Violent crime rate: 501.8 per 100,000 (10th highest)</li>,\n",
       " <li>Permit required to carry handgun: Yes</li>,\n",
       " <li>Poverty rate: 15.3% (14th highest)</li>,\n",
       " <li>Firearm deaths per 100,000 people: 17.7 per 100,000</li>,\n",
       " <li>Total firearm deaths 2016: 541 (suicides: 331, homicides: 182)</li>,\n",
       " <li>Violent crime rate: 550.9 per 100,000 (6th highest)</li>,\n",
       " <li>Permit required to carry handgun: Yes</li>,\n",
       " <li>Poverty rate: 17.2% (6th highest)</li>,\n",
       " <li>Firearm deaths per 100,000 people: 18.2 per 100,000</li>,\n",
       " <li>Total firearm deaths 2016: 383 (suicides: 243, homicides: 113)</li>,\n",
       " <li>Violent crime rate: 702.5 per 100,000 (2nd highest)</li>,\n",
       " <li>Permit required to carry handgun: Yes</li>,\n",
       " <li>Poverty rate: 19.8% (3rd highest)</li>,\n",
       " <li>Firearm deaths per 100,000 people: 18.8 per 100,000</li>,\n",
       " <li>Total firearm deaths 2016: 1144 (suicides: 650, homicides: 464)</li>,\n",
       " <li>Violent crime rate: 519.4 per 100,000 (8th highest)</li>,\n",
       " <li>Permit required to carry handgun: No</li>,\n",
       " <li>Poverty rate: 14.0% (22nd highest)</li>,\n",
       " <li>Firearm deaths per 100,000 people: 19.0 per 100,000</li>,\n",
       " <li>Total firearm deaths 2016: 194 (suicides: 162, homicides: N/A)</li>,\n",
       " <li>Violent crime rate: 368.3 per 100,000 (25th lowest)</li>,\n",
       " <li>Permit required to carry handgun: Yes (A permit to carry concealed is not needed outside limits of cities or towns.)</li>,\n",
       " <li>Poverty rate: 13.3% (24th highest)</li>,\n",
       " <li>Firearm deaths per 100,000 people: 19.6 per 100,000</li>,\n",
       " <li>Total firearm deaths 2016: 766 (suicides: 517, homicides: 238)</li>,\n",
       " <li>Violent crime rate: 449.8 per 100,000 (14th highest)</li>,\n",
       " <li>Permit required to carry handgun: Yes</li>,\n",
       " <li>Poverty rate: 16.3% (9th highest)</li>,\n",
       " <li>Firearm deaths per 100,000 people: 19.8 per 100,000</li>,\n",
       " <li>Total firearm deaths 2016: 587 (suicides: 268, homicides: 282)</li>,\n",
       " <li>Violent crime rate: 280.5 per 100,000 (15th lowest)</li>,\n",
       " <li>Permit required to carry handgun: No (A permit to carry can be obtained, but it is not required to carry a handgun either openly or concealed.)</li>,\n",
       " <li>Poverty rate: 20.8% (the highest)</li>,\n",
       " <li>Firearm deaths per 100,000 people: 21.2 per 100,000</li>,\n",
       " <li>Total firearm deaths 2016: 987 (suicides: 440, homicides: 526)</li>,\n",
       " <li>Violent crime rate: 566.1 per 100,000 (5th highest)</li>,\n",
       " <li>Permit required to carry handgun: Yes</li>,\n",
       " <li>Poverty rate: 20.2% (2nd highest)</li>,\n",
       " <li>Firearm deaths per 100,000 people: 21.4 per 100,000</li>,\n",
       " <li>Total firearm deaths 2016: 1046 (suicides: 550, homicides: 454)</li>,\n",
       " <li>Violent crime rate: 532.3 per 100,000 (7th highest)</li>,\n",
       " <li>Permit required to carry handgun: Yes</li>,\n",
       " <li>Poverty rate: 17.1% (7th highest)</li>,\n",
       " <li>Firearm deaths per 100,000 people: 23.0 per 100,000</li>,\n",
       " <li>Total firearm deaths 2016: 177 (suicides: 113, homicides: 45)</li>,\n",
       " <li>Violent crime rate: 804.2 per 100,000 (the highest)</li>,\n",
       " <li>Permit required to carry handgun: No</li>,\n",
       " <li>Poverty rate: 9.9% (6th lowest)</li>]"
      ]
     },
     "execution_count": 62,
     "metadata": {},
     "output_type": "execute_result"
    }
   ],
   "source": [
    "data"
   ]
  },
  {
   "cell_type": "code",
   "execution_count": 63,
   "metadata": {},
   "outputs": [
    {
     "data": {
      "text/plain": [
       "'\\nfor d in data:\\n    \\n    d = str(d)\\n    l = len(d)\\n    if l == 0:\\n        print l\\n    d = d[4:l-5]\\n    target.append(d)\\n    #print d\\ntargetMap = {} \\nfor d in target:\\n    dList = d.split()\\n    if not dList[0] in targetMap:\\n        targetMap[dList[0]] = []\\n    targetMap[dList[0]].append(d)\\nfor key in targetMap:\\n    print key\\n    if key == \"Violent\":\\n        print targetMap[key]\\n    #print Violent\\n#print targetMap[\"Permit\"]\\n'"
      ]
     },
     "execution_count": 63,
     "metadata": {},
     "output_type": "execute_result"
    }
   ],
   "source": [
    "target = []\n",
    "'''\n",
    "for d in data:\n",
    "    \n",
    "    d = str(d)\n",
    "    l = len(d)\n",
    "    if l == 0:\n",
    "        print l\n",
    "    d = d[4:l-5]\n",
    "    target.append(d)\n",
    "    #print d\n",
    "targetMap = {} \n",
    "for d in target:\n",
    "    dList = d.split()\n",
    "    if not dList[0] in targetMap:\n",
    "        targetMap[dList[0]] = []\n",
    "    targetMap[dList[0]].append(d)\n",
    "for key in targetMap:\n",
    "    print key\n",
    "    if key == \"Violent\":\n",
    "        print targetMap[key]\n",
    "    #print Violent\n",
    "#print targetMap[\"Permit\"]\n",
    "'''"
   ]
  },
  {
   "cell_type": "code",
   "execution_count": 65,
   "metadata": {},
   "outputs": [
    {
     "name": "stdout",
     "output_type": "stream",
     "text": [
      "['Mississippi', '19.8', '20.8%', 'No', '280.5', '587']\n",
      "['Oklahoma', '19.6', '16.3%', 'Yes', '449.8', '766']\n",
      "['Delaware', '10.9', '11.7%', 'Yes', '508.8', '111']\n",
      "['Minnesota', '7.6', '9.9%', 'Yes', '242.6', '432']\n",
      "['Alaska', '23.0', '9.9%', 'No', '804.2', '177']\n",
      "['Illinois', '11.6', '13.0%', 'FOID', '436.3', '1490']\n",
      "['Arkansas', '17.7', '17.2%', 'Yes', '550.9', '541']\n",
      "['New Mexico', '18.2', '19.8%', 'Yes', '702.5', '383']\n",
      "['Ohio', '12.9', '14.6%', 'Yes', '300.3', '1524']\n",
      "['Indiana', '14.9', '14.1%', 'Yes', '404.7', '997']\n",
      "['Maryland', '11.8', '9.7%', 'Yes', '472.0', '707']\n",
      "['Louisiana', '21.2', '20.2%', 'Yes', '566.1', '987']\n",
      "['Texas', '12.1', '15.6%', 'Yes', '434.4', '3353']\n",
      "['Wyoming', '17.5', '11.3%', 'No', '244.2', '101']\n",
      "['Arizona', '15.2', '16.4%', 'No', '470.1', '1094']\n",
      "['Wisconsin', '11.4', '11.8%', 'Yes', '305.9', '664']\n",
      "['Michigan', '12.2', '15.0%', 'Yes', '459.0', '1230']\n",
      "['Kansas', '13.3', '12.1%', 'No', '380.4', '383']\n",
      "['Utah', '12.9', '10.2%', 'Yes', '242.8', '370']\n",
      "['Virginia', '12.0', '11.0%', 'Yes', '217.6', '1049']\n",
      "['Oregon', '11.8', '13.3%', 'Yes', '264.6', '513']\n",
      "['Connecticut', '4.6', '9.8%', 'Yes', '227.1', '172']\n",
      "['Tennessee', '17.0', '15.8%', 'Yes', '632.9', '1148']\n",
      "['California', '7.9', '14.3%', 'Yes', '445.3', '3184']\n",
      "['Massachusetts', '3.4', '10.4%', 'Yes', '376.9', '242']\n",
      "['West Virginia', '17.5', '17.9%', 'No', '358.1', '332']\n",
      "['South Carolina', '17.7', '15.3%', 'Yes', '501.8', '891']\n",
      "['New Hampshire', '9.3', '7.3%', 'No', '197.6', '132']\n",
      "['Vermont', '11.0', '11.9%', 'No', '158.3', '78']\n",
      "['Georgia', '14.9', '16.0%', 'Yes', '397.6', '1571']\n",
      "['North Dakota', '11.9', '10.7%', 'No', '251.1', '90']\n",
      "['Pennsylvania', '11.9', '12.9%', 'Yes', '316.4', '1555']\n",
      "['Florida', '12.6', '14.7%', 'Yes', '430.3', '2704']\n",
      "['Hawaii', '4.5', '9.3%', 'Yes', '309.2', '66']\n",
      "['Kentucky', '17.5', '18.5%', 'Yes', '232.3', '772']\n",
      "['Rhode Island', '4.0', '12.8%', 'Yes', '238.9', '49']\n",
      "['Nebraska', '9.1', '11.4%', 'Yes', '291.0', '171']\n",
      "['Missouri', '18.8', '14.0%', 'No', '519.4', '1144']\n",
      "['Iowa', '9.2', '11.8%', 'Yes', '290.6', '288']\n",
      "['Alabama', '21.4', '17.1%', 'Yes', '532.3', '1046']\n",
      "['South Dakota', '13.5', '13.3%', 'Yes', '418.4', '108']\n",
      "['Colorado', '14.3', '11.0%', 'Yes', '342.6', '812']\n",
      "['Idaho', '14.6', '14.4%', 'No', '230.3', '242']\n",
      "['New Jersey', '5.5', '10.4%', 'Yes', '245.0', '485']\n",
      "['Washington', '9.0', '11.3%', 'Yes', '302.2', '686']\n",
      "['North Carolina', '13.6', '15.4%', 'Yes', '372.2', '1409']\n",
      "['New York', '4.4', '14.7%', 'Yes', '376.2', '900']\n",
      "['Montana', '19.0', '13.3%', 'Yes', '368.3', '194']\n",
      "['Nevada', '16.7', '13.8%', 'Yes', '678.1', '498']\n",
      "['Maine', '8.2', '12.5%', 'No', '123.8', '123']\n"
     ]
    }
   ],
   "source": [
    "with open('gunshot.csv','a') as csv_file:\n",
    "    writer = csv.writer(csv_file)\n",
    "    writer.writerow([\"State\", \"Firearm deaths per 100,000 people\", \"Poverty rate\", \"Permit required to carry handgun\",\"Violent crime rate\", \"Total firearm deaths 2016\"])\n",
    "    #writer.writerow()\n",
    "    stateMap = {}\n",
    "    for i, s in enumerate(state):\n",
    "        if not s in stateMap:\n",
    "            stateMap[s] = []\n",
    "        for j in range(5):\n",
    "            idx = i*5+j\n",
    "            \n",
    "            d = str(data[idx])\n",
    "            l = len(d)\n",
    "            d = d[4:l-5]\n",
    "\n",
    "            stateMap[s].append(d)\n",
    "    def lam(shotStr):\n",
    "        strList = shotStr.split()\n",
    "        if strList[0] == \"Firearm\":\n",
    "            return 0\n",
    "        if strList[0] == \"Poverty\":\n",
    "            return 1\n",
    "        if strList[0] == \"Permit\":\n",
    "            return 2\n",
    "        if strList[0] == \"Violent\":\n",
    "            return 3\n",
    "        if strList[0] == \"Total\":\n",
    "            return 4\n",
    "    for s in stateMap:\n",
    "        stateMap[s].sort(key=lam)\n",
    "        #print stateMap[s]\n",
    "    for s in stateMap:\n",
    "        for i in range(len(stateMap[s])):\n",
    "            shotData = stateMap[s][i]\n",
    "            splitData = shotData.split(\":\")\n",
    "            keepData = splitData[1].split()\n",
    "            stateMap[s][i] = keepData[0]\n",
    "    \n",
    "    for s in stateMap:\n",
    "        shotList = stateMap[s][:]\n",
    "        shotList.insert(0,s)\n",
    "        print shotList\n",
    "        writer.writerow(shotList)\n",
    "        "
   ]
  },
  {
   "cell_type": "code",
   "execution_count": null,
   "metadata": {
    "collapsed": true
   },
   "outputs": [],
   "source": []
  },
  {
   "cell_type": "code",
   "execution_count": null,
   "metadata": {
    "collapsed": true
   },
   "outputs": [],
   "source": []
  },
  {
   "cell_type": "code",
   "execution_count": null,
   "metadata": {
    "collapsed": true
   },
   "outputs": [],
   "source": []
  }
 ],
 "metadata": {
  "kernelspec": {
   "display_name": "Python 2",
   "language": "python",
   "name": "python2"
  },
  "language_info": {
   "codemirror_mode": {
    "name": "ipython",
    "version": 2
   },
   "file_extension": ".py",
   "mimetype": "text/x-python",
   "name": "python",
   "nbconvert_exporter": "python",
   "pygments_lexer": "ipython2",
   "version": "2.7.13"
  }
 },
 "nbformat": 4,
 "nbformat_minor": 2
}
