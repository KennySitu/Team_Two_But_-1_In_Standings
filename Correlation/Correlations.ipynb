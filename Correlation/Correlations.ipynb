{
 "cells": [
  {
   "cell_type": "code",
   "execution_count": null,
   "metadata": {
    "collapsed": true
   },
   "outputs": [],
   "source": []
  },
  {
   "cell_type": "code",
   "execution_count": null,
   "metadata": {},
   "outputs": [],
   "source": [
    "def gunshot_data_fetch():\n",
    "    \n",
    "    import pandas as pd\n",
    "    \n",
    "    gun_df = pd.read_csv('../data/gunshot.csv')\n",
    "    deaths = gun_df['Firearm deaths per 100,000 people']\n",
    "    states = gun_df['State']\n",
    "    return dict(zip(states, deaths))"
   ]
  },
  {
   "cell_type": "code",
   "execution_count": null,
   "metadata": {},
   "outputs": [],
   "source": [
    "def mental_data_fetch():\n",
    "    \n",
    "    import pandas as pd\n",
    "    \n",
    "    mental_df = pd.read_csv('../data/mental_health.csv')\n",
    "    serious_mental = mental_df['Serious Mental Illness']\n",
    "    any_mental = mental_df['Any Mental Illness']\n",
    "    states = mental_df['State']\n",
    "    \n",
    "    serious_dict = dict(zip(states, serious_mental))\n",
    "    any_dict = dict(zip(states, any_mental))\n",
    "    \n",
    "    return [serious_dict, any_dict]"
   ]
  },
  {
   "cell_type": "code",
   "execution_count": 37,
   "metadata": {},
   "outputs": [],
   "source": [
    "def correlation():\n",
    "    import scipy\n",
    "    from scipy.stats import pearsonr\n",
    "    \n",
    "    gun = gunshot_data_fetch()\n",
    "    mental = mental_data_fetch()\n",
    "    serious_mental = mental[0]\n",
    "    any_mental = mental[1]\n",
    "    \n",
    "\n",
    "    #coef = pearsonr(gun[1], serious_mental[1])\n",
    "    #return coef"
   ]
  },
  {
   "cell_type": "code",
   "execution_count": null,
   "metadata": {},
   "outputs": [],
   "source": []
  },
  {
   "cell_type": "code",
   "execution_count": 38,
   "metadata": {},
   "outputs": [
    {
     "name": "stdout",
     "output_type": "stream",
     "text": [
      "19.8\n",
      "9.2\n",
      "19.6\n",
      "17.5\n",
      "7.6\n",
      "11.6\n",
      "14.9\n",
      "17.7\n",
      "18.2\n",
      "14.9\n",
      "11.8\n",
      "21.2\n",
      "12.1\n",
      "15.2\n",
      "11.4\n",
      "12.2\n",
      "13.3\n",
      "12.9\n",
      "12.0\n",
      "11.8\n",
      "4.6\n",
      "4.4\n",
      "7.9\n",
      "3.4\n",
      "17.5\n",
      "17.7\n",
      "9.3\n",
      "11.0\n",
      "10.9\n",
      "11.9\n",
      "11.9\n",
      "12.6\n",
      "23.0\n",
      "17.5\n",
      "4.5\n",
      "9.1\n",
      "18.8\n",
      "12.9\n",
      "21.4\n",
      "4.0\n",
      "13.5\n",
      "14.3\n",
      "14.6\n",
      "5.5\n",
      "9.0\n",
      "13.6\n",
      "17.0\n",
      "19.0\n",
      "16.7\n",
      "8.2\n"
     ]
    }
   ],
   "source": [
    "correlation()"
   ]
  },
  {
   "cell_type": "code",
   "execution_count": 28,
   "metadata": {},
   "outputs": [
    {
     "data": {
      "text/plain": [
       "{'Alabama': 21.4,\n",
       " 'Alaska': 23.0,\n",
       " 'Arizona': 15.2,\n",
       " 'Arkansas': 17.7,\n",
       " 'California': 7.9,\n",
       " 'Colorado': 14.3,\n",
       " 'Connecticut': 4.6,\n",
       " 'Delaware': 10.9,\n",
       " 'Florida': 12.6,\n",
       " 'Georgia': 14.9,\n",
       " 'Hawaii': 4.5,\n",
       " 'Idaho': 14.6,\n",
       " 'Illinois': 11.6,\n",
       " 'Indiana': 14.9,\n",
       " 'Iowa': 9.2,\n",
       " 'Kansas': 13.3,\n",
       " 'Kentucky': 17.5,\n",
       " 'Louisiana': 21.2,\n",
       " 'Maine': 8.2,\n",
       " 'Maryland': 11.8,\n",
       " 'Massachusetts': 3.4,\n",
       " 'Michigan': 12.2,\n",
       " 'Minnesota': 7.6,\n",
       " 'Mississippi': 19.8,\n",
       " 'Missouri': 18.8,\n",
       " 'Montana': 19.0,\n",
       " 'Nebraska': 9.1,\n",
       " 'Nevada': 16.7,\n",
       " 'New Hampshire': 9.3,\n",
       " 'New Jersey': 5.5,\n",
       " 'New Mexico': 18.2,\n",
       " 'New York': 4.4,\n",
       " 'North Carolina': 13.6,\n",
       " 'North Dakota': 11.9,\n",
       " 'Ohio': 12.9,\n",
       " 'Oklahoma': 19.6,\n",
       " 'Oregon': 11.8,\n",
       " 'Pennsylvania': 11.9,\n",
       " 'Rhode Island': 4.0,\n",
       " 'South Carolina': 17.7,\n",
       " 'South Dakota': 13.5,\n",
       " 'Tennessee': 17.0,\n",
       " 'Texas': 12.1,\n",
       " 'Utah': 12.9,\n",
       " 'Vermont': 11.0,\n",
       " 'Virginia': 12.0,\n",
       " 'Washington': 9.0,\n",
       " 'West Virginia': 17.5,\n",
       " 'Wisconsin': 11.4,\n",
       " 'Wyoming': 17.5}"
      ]
     },
     "execution_count": 28,
     "metadata": {},
     "output_type": "execute_result"
    }
   ],
   "source": [
    "gunshot_data_fetch()"
   ]
  },
  {
   "cell_type": "code",
   "execution_count": null,
   "metadata": {},
   "outputs": [],
   "source": []
  }
 ],
 "metadata": {
  "kernelspec": {
   "display_name": "Python 2",
   "language": "python",
   "name": "python2"
  },
  "language_info": {
   "codemirror_mode": {
    "name": "ipython",
    "version": 2
   },
   "file_extension": ".py",
   "mimetype": "text/x-python",
   "name": "python",
   "nbconvert_exporter": "python",
   "pygments_lexer": "ipython2",
   "version": "2.7.14"
  }
 },
 "nbformat": 4,
 "nbformat_minor": 1
}
